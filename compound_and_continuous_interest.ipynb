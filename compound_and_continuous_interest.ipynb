{
  "nbformat": 4,
  "nbformat_minor": 0,
  "metadata": {
    "colab": {
      "provenance": [],
      "toc_visible": true
    },
    "kernelspec": {
      "name": "python3",
      "display_name": "Python 3"
    },
    "language_info": {
      "name": "python"
    }
  },
  "cells": [
    {
      "cell_type": "markdown",
      "source": [
        "# Compound and continuous interest"
      ],
      "metadata": {
        "id": "4jwoPkO1N1nY"
      }
    },
    {
      "cell_type": "markdown",
      "source": [
        "\n",
        "Compound interest is given by the following formula\n",
        "\n",
        "                    A = P ( 1 + r / n ) ^ nt\n",
        "\n",
        "\n",
        "Continuous interest is given by\n",
        "\n",
        "                            A = P𝒆^rt\n",
        "\n",
        "\n",
        "Let us calculate a few interests to set this in Python."
      ],
      "metadata": {
        "id": "zgmU5GuHs7E7"
      }
    },
    {
      "cell_type": "markdown",
      "source": [
        "Find the accumulated value of an investment of $ 15000\n",
        "for 7 years at an interest rate of 4.5 % if the money is a. compounded​ semiannually; b. compounded​ quarterly; c. compounded​ monthly; d. compounded continuously."
      ],
      "metadata": {
        "id": "YrI1LQTUQKuw"
      }
    },
    {
      "cell_type": "markdown",
      "source": [
        "## Find the accumulated value of an investment of $ 15000 for 7 years at an interest rate of 4.5 % if the money is"
      ],
      "metadata": {
        "id": "X6iox8leTH0p"
      }
    },
    {
      "cell_type": "code",
      "execution_count": 23,
      "metadata": {
        "id": "VNIMlzNuiuxB"
      },
      "outputs": [],
      "source": [
        "import numpy as np\n",
        "import math\n",
        "#A is the Accumulated value\n",
        "P = 15000  #Principal value\n",
        "t = 7 #time in years\n",
        "r = 0.045 #anual percentage rate"
      ]
    },
    {
      "cell_type": "markdown",
      "source": [
        "### a. compounded​ semiannually"
      ],
      "metadata": {
        "id": "hpbIMURRTXII"
      }
    },
    {
      "cell_type": "code",
      "source": [
        "n = 2\n",
        "A = P * (( 1 + r / n) **( n * t))\n",
        "print('a.')\n",
        "print(A)"
      ],
      "metadata": {
        "colab": {
          "base_uri": "https://localhost:8080/"
        },
        "id": "wPllTjl-TqKZ",
        "outputId": "cb300e95-67fd-44fe-ca89-1ad2bdb22943"
      },
      "execution_count": 24,
      "outputs": [
        {
          "output_type": "stream",
          "name": "stdout",
          "text": [
            "a.\n",
            "20482.251408598328\n"
          ]
        }
      ]
    },
    {
      "cell_type": "markdown",
      "source": [
        "### b. compounded​ quarterly"
      ],
      "metadata": {
        "id": "2hatAOJ1TvJ4"
      }
    },
    {
      "cell_type": "code",
      "source": [
        "n = 4\n",
        "A = P * (( 1 + r / n) **( n * t))\n",
        "print('b.')\n",
        "print(A)"
      ],
      "metadata": {
        "colab": {
          "base_uri": "https://localhost:8080/"
        },
        "id": "svox_hE5UI2_",
        "outputId": "2ddd66f0-2636-4d3b-977c-765ef9b32306"
      },
      "execution_count": 25,
      "outputs": [
        {
          "output_type": "stream",
          "name": "stdout",
          "text": [
            "b.\n",
            "20517.773367066435\n"
          ]
        }
      ]
    },
    {
      "cell_type": "markdown",
      "source": [
        "### c. compounded​ monthly"
      ],
      "metadata": {
        "id": "K8zg7V67T3Oo"
      }
    },
    {
      "cell_type": "code",
      "source": [
        "n = 12\n",
        "A = P * (( 1 + r / n) **( n * t))\n",
        "print('c.')\n",
        "print(A)"
      ],
      "metadata": {
        "colab": {
          "base_uri": "https://localhost:8080/"
        },
        "id": "35DlWtwIULfX",
        "outputId": "4de10721-c96e-4827-92cc-2cfba779ecf2"
      },
      "execution_count": 26,
      "outputs": [
        {
          "output_type": "stream",
          "name": "stdout",
          "text": [
            "c.\n",
            "20541.783853707868\n"
          ]
        }
      ]
    },
    {
      "cell_type": "markdown",
      "source": [
        "###d. compounded continuously"
      ],
      "metadata": {
        "id": "qSna1Q5cT-9_"
      }
    },
    {
      "cell_type": "code",
      "source": [
        "A = P * (math.e **( r * t))\n",
        "print('d.')\n",
        "print(A)"
      ],
      "metadata": {
        "colab": {
          "base_uri": "https://localhost:8080/"
        },
        "id": "5RUYJAn2UN5P",
        "outputId": "32aa748f-5506-49c5-8665-e22ef2ba64ce"
      },
      "execution_count": 27,
      "outputs": [
        {
          "output_type": "stream",
          "name": "stdout",
          "text": [
            "d.\n",
            "20553.88966435495\n"
          ]
        }
      ]
    },
    {
      "cell_type": "markdown",
      "source": [
        "##Suppose you have $ 11000 to invest. Which of the two rates would yield the larger amount in 3 years​?"
      ],
      "metadata": {
        "id": "-abw5qSGv2lC"
      }
    },
    {
      "cell_type": "code",
      "source": [
        "P = 11000  #Principal value\n",
        "t = 3 #time in years"
      ],
      "metadata": {
        "id": "YbillrHFwMtY"
      },
      "execution_count": 28,
      "outputs": []
    },
    {
      "cell_type": "markdown",
      "source": [
        "###6​% compounded monthly"
      ],
      "metadata": {
        "id": "eb-e-pOyVJki"
      }
    },
    {
      "cell_type": "code",
      "source": [
        "r = 0.06 #anual percentage rate\n",
        "n = 12\n",
        "A = P * (( 1 + r / n) **( n * t))\n",
        "print('a.')\n",
        "print(A)"
      ],
      "metadata": {
        "colab": {
          "base_uri": "https://localhost:8080/"
        },
        "id": "4-6zp5jrVT_Q",
        "outputId": "772d1403-6518-44eb-8cb5-eccfe1e81f6d"
      },
      "execution_count": 29,
      "outputs": [
        {
          "output_type": "stream",
          "name": "stdout",
          "text": [
            "a.\n",
            "13163.485773057562\n"
          ]
        }
      ]
    },
    {
      "cell_type": "markdown",
      "source": [
        "###5.88 % compounded​ continuously"
      ],
      "metadata": {
        "id": "7vVO1xZ8VU5Q"
      }
    },
    {
      "cell_type": "code",
      "source": [
        "r = 0.0588\n",
        "A = P * (math.e **( r * t))\n",
        "print('b.')\n",
        "print(A)"
      ],
      "metadata": {
        "colab": {
          "base_uri": "https://localhost:8080/"
        },
        "id": "cj7JTmiUVZxA",
        "outputId": "1937ce2b-f66a-4b08-d9c8-cafcb8fb6aa7"
      },
      "execution_count": 30,
      "outputs": [
        {
          "output_type": "stream",
          "name": "stdout",
          "text": [
            "b.\n",
            "13122.066422100846\n"
          ]
        }
      ]
    },
    {
      "cell_type": "markdown",
      "source": [
        "In this case, it's clear that the monthly interest yields more."
      ],
      "metadata": {
        "id": "__R46Mki4mtQ"
      }
    },
    {
      "cell_type": "markdown",
      "source": [
        "##You have ​$14000 to invest. One bank pays 0.6​% interest compounded semiannually and a second bank pays 0.45​% interest compounded monthly. "
      ],
      "metadata": {
        "id": "lj7G41okXdTq"
      }
    },
    {
      "cell_type": "markdown",
      "source": [
        "We can write a function for the balance in each bank at any time t.\n",
        "\n",
        "For the balance in the first bank with interest compounded semiannually at any time t. \n",
        "\n",
        "                            A = 14000(1.003)^2t\n",
        "\n",
        "For the balance in the second bank with interest compounded monthly at any time t.\n",
        "                            \n",
        "                            A = 14000(1.000375)^12t\n"
      ],
      "metadata": {
        "id": "ihdsMGX0wY1A"
      }
    },
    {
      "cell_type": "markdown",
      "source": [
        "###Which bank offers the better return on your​ money?"
      ],
      "metadata": {
        "id": "rOdB90pT7qZU"
      }
    },
    {
      "cell_type": "code",
      "source": [
        "import matplotlib.pyplot as plt\n",
        "\n",
        "t = np.linspace(0, 50, 100)\n",
        "A = 14000*((1.003)**(2*t))\n",
        "\n",
        "\n",
        "fig = plt.figure(figsize = (10, 5))\n",
        "a = plt.plot(t, A,'r')\n",
        "A = 14000*((1.000375)**(12*t))\n",
        "b = plt.plot(t,A)\n",
        "plt.legend((a[0], b[0]), ('1st bank semianually', '2nd bank monthly'), bbox_to_anchor=(0.04, 0.82, 0.9, 0.102))\n",
        "\n",
        "plt.show()"
      ],
      "metadata": {
        "id": "7jSwQ3Rlwjyh",
        "colab": {
          "base_uri": "https://localhost:8080/",
          "height": 445
        },
        "outputId": "e8c0535f-c7db-4ad1-ba0b-fb887c2a00f2"
      },
      "execution_count": 31,
      "outputs": [
        {
          "output_type": "display_data",
          "data": {
            "text/plain": [
              "<Figure size 1000x500 with 1 Axes>"
            ],
            "image/png": "[encoded data removed]"
          },
          "metadata": {}
        }
      ]
    },
    {
      "cell_type": "markdown",
      "source": [
        "The first bank does, as seen in the graph."
      ],
      "metadata": {
        "id": "yT6YjtvlYFAv"
      }
    },
    {
      "cell_type": "markdown",
      "source": [
        "##Complete the table for a savings account subject to n compounding periods per year."
      ],
      "metadata": {
        "id": "0Eg9hFrvjNqI"
      }
    },
    {
      "cell_type": "markdown",
      "source": [
        "###a.\n",
        "| Amount invested | Number of Compounding Periods | Annual Interest Rate | Accumulated amount |Time t in years |\n",
        "| :-: | :-: | :-: | :-: |:-: |\n",
        "| 15000 | 4 | 6.25% | 22000| |\n"
      ],
      "metadata": {
        "id": "BONu7rrcYZ-g"
      }
    },
    {
      "cell_type": "code",
      "source": [
        "A = 22000\n",
        "P = 15000\n",
        "n = 4\n",
        "r = 0.0625\n",
        "\n",
        "print(( 1.0 + r / n ))"
      ],
      "metadata": {
        "colab": {
          "base_uri": "https://localhost:8080/"
        },
        "id": "egh7XHVojr2h",
        "outputId": "695020ca-8612-46ca-bc3f-43100dd1bdfc"
      },
      "execution_count": 32,
      "outputs": [
        {
          "output_type": "stream",
          "name": "stdout",
          "text": [
            "1.015625\n"
          ]
        }
      ]
    },
    {
      "cell_type": "markdown",
      "source": [
        "22000/15000 = 1.015625 ^ 4t"
      ],
      "metadata": {
        "id": "S4YoTw4tn0wJ"
      }
    },
    {
      "cell_type": "code",
      "source": [
        "t = np.log(A/P) / (n * np.log (1.0+r/n))\n",
        "print('takes '+str(t)+' years to achieve the accumulated value')"
      ],
      "metadata": {
        "colab": {
          "base_uri": "https://localhost:8080/"
        },
        "id": "dIMHrLbWn0b4",
        "outputId": "db6ed734-a391-4a30-e277-a4029278fd37"
      },
      "execution_count": 33,
      "outputs": [
        {
          "output_type": "stream",
          "name": "stdout",
          "text": [
            "takes 6.175626360139467 years to achieve the accumulated value\n"
          ]
        }
      ]
    },
    {
      "cell_type": "markdown",
      "source": [
        "| Amount invested | Number of Compounding Periods | Annual Interest Rate | Accumulated amount |Time t in years |\n",
        "| :-: | :-: | :-: | :-: |:-: |\n",
        "| 15000 | 4 | 6.25% | 22000| 6.2|"
      ],
      "metadata": {
        "id": "ywBqBEzlqZLu"
      }
    },
    {
      "cell_type": "markdown",
      "source": [
        "###b.\n",
        "| Amount invested | Number of Compounding Periods | Annual Interest Rate | Accumulated amount |Time t in years |\n",
        "| :-: | :-: | :-: | :-: |:-: |\n",
        "| 50000 | 365 | 11.6% | 137500| |"
      ],
      "metadata": {
        "id": "248ed5E1qs9A"
      }
    },
    {
      "cell_type": "code",
      "source": [
        "A = 137500\n",
        "P = 50000\n",
        "n = 365\n",
        "r = 0.116\n",
        "\n",
        "t = np.log(A/P) / (n * np.log( 1.0 + r / n ))\n",
        "print('takes '+str(t)+' years to achieve the accumulated value')"
      ],
      "metadata": {
        "id": "tQfiMPmuqtw_",
        "colab": {
          "base_uri": "https://localhost:8080/"
        },
        "outputId": "c29dac37-e51e-4848-c970-ab40d9bcff5f"
      },
      "execution_count": 34,
      "outputs": [
        {
          "output_type": "stream",
          "name": "stdout",
          "text": [
            "takes 8.722083195752266 years to achieve the accumulated value\n"
          ]
        }
      ]
    },
    {
      "cell_type": "markdown",
      "source": [
        "| Amount invested | Number of Compounding Periods | Annual Interest Rate | Accumulated amount |Time t in years |\n",
        "| :-: | :-: | :-: | :-: |:-: |\n",
        "| 50000 | 365 | 11.6% | 137500|8.7 |"
      ],
      "metadata": {
        "id": "mJYRctSma2ch"
      }
    },
    {
      "cell_type": "markdown",
      "source": [
        "###c. continuous compound\n",
        "\n",
        "The formula \n",
        "\n",
        "                           A = P𝒆^rt\n",
        " \n",
        "describes the accumulated​ value, A, of a sum of​ money, P, the​ principal, after t years at annual percentage rate r​ (in decimal​ form) compounded continuously. "
      ],
      "metadata": {
        "id": "zQyjOKw-qvEg"
      }
    },
    {
      "cell_type": "markdown",
      "source": [
        "Complete the table for a savings account subject to continuous compounding.\n",
        "\n",
        "| Amount invested |  Annual Interest Rate | Accumulated amount |Time t in years |\n",
        "| :-: | :-: | :-: | :-: |\n",
        "| 7500 | 9% | 2X| |"
      ],
      "metadata": {
        "id": "4g_YZwJrb4MQ"
      }
    },
    {
      "cell_type": "code",
      "source": [
        "A = 15000\n",
        "P = 7500\n",
        "r = 0.09\n",
        "\n",
        "t = np.log(A/P)/(r*np.log(math.e))\n",
        "print(t)"
      ],
      "metadata": {
        "id": "p1k4o4beq2DQ",
        "colab": {
          "base_uri": "https://localhost:8080/"
        },
        "outputId": "37957dd6-ec06-43b1-e922-fa9be861fe4a"
      },
      "execution_count": 35,
      "outputs": [
        {
          "output_type": "stream",
          "name": "stdout",
          "text": [
            "7.701635339554948\n"
          ]
        }
      ]
    },
    {
      "cell_type": "markdown",
      "source": [
        "| Amount invested |  Annual Interest Rate | Accumulated amount |Time t in years |\n",
        "| :-: | :-: | :-: | :-: |\n",
        "| 7500 | 9% | 2X|7.7 |"
      ],
      "metadata": {
        "id": "mvSgax_kbZih"
      }
    },
    {
      "cell_type": "markdown",
      "source": [
        "#Modeling Inflation"
      ],
      "metadata": {
        "id": "G5n1mVbsce5J"
      }
    },
    {
      "cell_type": "markdown",
      "source": [
        "The formula S = C ( 1 + r ) ^ t models​ inflation, where C equals the value​ today, r equals the annual inflation rate​ (in decimal​ form), and S equals the inflated value t years from now."
      ],
      "metadata": {
        "id": "jB1luuYVwNsv"
      }
    },
    {
      "cell_type": "markdown",
      "source": [
        "##If the inflation rate is 4 ​%, how much will a house now worth ​$128000 be worth in 9 ​years?."
      ],
      "metadata": {
        "id": "E2Uak4jQdLRR"
      }
    },
    {
      "cell_type": "code",
      "source": [
        "#S inflated value\n",
        "C = 128000 # initial value\n",
        "r = 0.04 #inflation rate in decimal form\n",
        "t = 9 #time in years\n",
        "\n",
        "S = C * ( 1 + r ) ** t\n",
        "\n",
        "print('The house will be worth: ')\n",
        "print(S)"
      ],
      "metadata": {
        "id": "ujyONn2_wW4Y",
        "colab": {
          "base_uri": "https://localhost:8080/"
        },
        "outputId": "fa0ab713-97e8-4fac-9226-745cc3f8b38e"
      },
      "execution_count": 36,
      "outputs": [
        {
          "output_type": "stream",
          "name": "stdout",
          "text": [
            "The house will be worth: \n",
            "182183.91198995008\n"
          ]
        }
      ]
    }
  ]
}